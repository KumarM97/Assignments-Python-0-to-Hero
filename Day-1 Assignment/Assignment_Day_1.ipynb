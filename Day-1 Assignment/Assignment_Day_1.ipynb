{
  "nbformat": 4,
  "nbformat_minor": 0,
  "metadata": {
    "colab": {
      "name": "Assignment Day-1.ipynb",
      "provenance": [],
      "collapsed_sections": []
    },
    "kernelspec": {
      "name": "python3",
      "display_name": "Python 3"
    },
    "language_info": {
      "name": "python"
    }
  },
  "cells": [
    {
      "cell_type": "code",
      "execution_count": 50,
      "metadata": {
        "colab": {
          "base_uri": "https://localhost:8080/"
        },
        "id": "B2JFaBr26k0f",
        "outputId": "9a55b9a3-bb5b-4a4e-da49-31d64bae28b0"
      },
      "outputs": [
        {
          "output_type": "stream",
          "name": "stdout",
          "text": [
            "Enter Multiple Integer Values: 10 20 20\n",
            "Sum of all Numbers:  50\n"
          ]
        }
      ],
      "source": [
        "# Assignment- Day-1\n",
        "# Qustion:    Take multiple numbers through input and print the sum of the numbers.\n",
        "total = 0\n",
        "x = input('Enter Multiple Integer Values: ')\n",
        "y = x.split()\n",
        "lis= []\n",
        "for i in y:\n",
        "  lis.append(int(i))\n",
        "for j in range(0, len(lis)):\n",
        "    total = total + lis[j]\n",
        "print(\"Sum of all Numbers: \", total)"
      ]
    }
  ]
}